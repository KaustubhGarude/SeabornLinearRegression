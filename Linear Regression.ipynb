{
 "cells": [
  {
   "cell_type": "code",
   "execution_count": 1,
   "metadata": {},
   "outputs": [],
   "source": [
    "import numpy as np\n",
    "import pandas as pd\n",
    "import seaborn as sns\n",
    "import matplotlib.pyplot as plt"
   ]
  },
  {
   "cell_type": "code",
   "execution_count": 2,
   "metadata": {},
   "outputs": [],
   "source": [
    "df = pd.read_csv(r'C:\\Users\\kabir\\Downloads\\P12-SalaryData.csv')"
   ]
  },
  {
   "cell_type": "code",
   "execution_count": 3,
   "metadata": {},
   "outputs": [
    {
     "data": {
      "image/png": "[encoded data removed]",
      "text/plain": [
       "<Figure size 432x288 with 1 Axes>"
      ]
     },
     "metadata": {
      "needs_background": "light"
     },
     "output_type": "display_data"
    },
    {
     "name": "stdout",
     "output_type": "stream",
     "text": [
      "Slope is - 9449.96 \n",
      "Y intercept is - 25792.20\n",
      "Mean value of Y is 76003.00\n",
      "Sum of squares of residuals is - 938128551.67\n",
      "Sum of squares of averages is - 21794977852.00\n",
      "RSqaured is - 0.95696\n",
      "Adjusted RSqaured is - 0.95542\n"
     ]
    }
   ],
   "source": [
    "def linearPlot(x,y):\n",
    "    p = sns.regplot(x,y, line_kws ={'color':'red'}, marker = 'x')\n",
    "    plt.show()\n",
    "    x_data = p.get_lines()[0].get_xdata()\n",
    "    y_data = p.get_lines()[0].get_ydata()\n",
    "    ##Slope\n",
    "    slope = (y_data[1] - y_data[0])/(x_data[1]-x_data[0])\n",
    "    print(\"Slope is - {0:.2f} \".format(slope))\n",
    "    ##Y intercept\n",
    "    y_intercept = y_data[0] - slope*x_data[0]\n",
    "    print(\"Y intercept is - {0:.2f}\".format(y_intercept))\n",
    "    ##Mean Value\n",
    "    meanY = y.mean()\n",
    "    print(\"Mean value of Y is {0:.2f}\".format(meanY))\n",
    "    #R-Squared\n",
    "    Sact = 0\n",
    "    Savg = 0\n",
    "    for i in range(0,len(x)):\n",
    "        b = y[i] - (slope*x[i] + y_intercept)\n",
    "        Sact += b**2 \n",
    "    print(\"Sum of squares of residuals is - {0:.2f}\".format(Sact))\n",
    "    for i in range(0,len(x)):\n",
    "        b = y[i] - meanY\n",
    "        Savg += b**2 \n",
    "    print(\"Sum of squares of averages is - {0:.2f}\".format(Savg))\n",
    "    RR = 1 - Sact/Savg\n",
    "    print(\"RSqaured is - {0:.5f}\".format(RR))\n",
    "    #Adjusted R-Squared\n",
    "    AdjRR = 1 - (1 - RR)*(len(x)-1)/(len(x)-1-1) #Only for linear regression\n",
    "    print(\"Adjusted RSqaured is - {0:.5f}\".format(AdjRR))\n",
    "    \n",
    "\n",
    "linearPlot(df['YearsExperience'], df['Salary'])"
   ]
  },
  {
   "cell_type": "code",
   "execution_count": null,
   "metadata": {},
   "outputs": [],
   "source": []
  },
  {
   "cell_type": "code",
   "execution_count": null,
   "metadata": {},
   "outputs": [],
   "source": []
  },
  {
   "cell_type": "code",
   "execution_count": null,
   "metadata": {},
   "outputs": [],
   "source": []
  },
  {
   "cell_type": "code",
   "execution_count": null,
   "metadata": {},
   "outputs": [],
   "source": []
  },
  {
   "cell_type": "code",
   "execution_count": null,
   "metadata": {},
   "outputs": [],
   "source": []
  },
  {
   "cell_type": "code",
   "execution_count": null,
   "metadata": {},
   "outputs": [],
   "source": []
  },
  {
   "cell_type": "code",
   "execution_count": null,
   "metadata": {},
   "outputs": [],
   "source": []
  },
  {
   "cell_type": "code",
   "execution_count": null,
   "metadata": {},
   "outputs": [],
   "source": []
  },
  {
   "cell_type": "code",
   "execution_count": null,
   "metadata": {},
   "outputs": [],
   "source": []
  },
  {
   "cell_type": "code",
   "execution_count": null,
   "metadata": {},
   "outputs": [],
   "source": []
  },
  {
   "cell_type": "code",
   "execution_count": null,
   "metadata": {},
   "outputs": [],
   "source": []
  },
  {
   "cell_type": "code",
   "execution_count": null,
   "metadata": {},
   "outputs": [],
   "source": []
  }
 ],
 "metadata": {
  "kernelspec": {
   "display_name": "Python 3",
   "language": "python",
   "name": "python3"
  },
  "language_info": {
   "codemirror_mode": {
    "name": "ipython",
    "version": 3
   },
   "file_extension": ".py",
   "mimetype": "text/x-python",
   "name": "python",
   "nbconvert_exporter": "python",
   "pygments_lexer": "ipython3",
   "version": "3.7.4"
  }
 },
 "nbformat": 4,
 "nbformat_minor": 2
}
